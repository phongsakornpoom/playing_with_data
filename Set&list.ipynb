{
 "cells": [
  {
   "cell_type": "code",
   "execution_count": 42,
   "metadata": {},
   "outputs": [
    {
     "data": {
      "text/plain": [
       "True"
      ]
     },
     "execution_count": 42,
     "metadata": {},
     "output_type": "execute_result"
    }
   ],
   "source": [
    "set1=set(['red','blue'])\n",
    "set2=set(['red','purple','green'])\n",
    "set3=set1.union(set2)\n",
    "set4=set1.intersection(set2)\n",
    "set5=set1.difference(set2)\n",
    "set1.issuperset(set4)\n"
   ]
  },
  {
   "cell_type": "code",
   "execution_count": 43,
   "metadata": {},
   "outputs": [
    {
     "name": "stdout",
     "output_type": "stream",
     "text": [
      "{'red'}\n"
     ]
    }
   ],
   "source": [
    "print(set4)\n",
    "set5.issubset(set1)\n",
    "set1.add('yellow')"
   ]
  },
  {
   "cell_type": "code",
   "execution_count": 18,
   "metadata": {},
   "outputs": [
    {
     "name": "stdout",
     "output_type": "stream",
     "text": [
      "red\n",
      "yellow\n",
      "blue\n"
     ]
    }
   ],
   "source": [
    "for dis in set1:\n",
    "    print(dis)"
   ]
  },
  {
   "cell_type": "code",
   "execution_count": 20,
   "metadata": {},
   "outputs": [
    {
     "name": "stdout",
     "output_type": "stream",
     "text": [
      "{'red', 'yellow', 'blue'}\n",
      "{'red', 'green', 'purple'}\n"
     ]
    }
   ],
   "source": [
    "print('{0}\\n{1}'.format(set1,set2))"
   ]
  },
  {
   "cell_type": "code",
   "execution_count": 36,
   "metadata": {},
   "outputs": [
    {
     "name": "stdout",
     "output_type": "stream",
     "text": [
      "{'red', 'yellow', 'blue'} \n",
      " {'red', 'green', 'purple'}\n"
     ]
    },
    {
     "data": {
      "text/plain": [
       "False"
      ]
     },
     "execution_count": 36,
     "metadata": {},
     "output_type": "execute_result"
    }
   ],
   "source": [
    "print(set1,'\\n',set2)"
   ]
  },
  {
   "cell_type": "code",
   "execution_count": 33,
   "metadata": {},
   "outputs": [],
   "source": [
    "list1=[1,2,3,4]\n",
    "list2=[5,6,7]\n",
    "list1.extend(list2)\n",
    "def prlist():\n",
    "    print(list1)"
   ]
  },
  {
   "cell_type": "code",
   "execution_count": 34,
   "metadata": {},
   "outputs": [
    {
     "name": "stdout",
     "output_type": "stream",
     "text": [
      "[1, 2, 3, 4, 5, 6, 7]\n"
     ]
    }
   ],
   "source": [
    "print(list1)"
   ]
  },
  {
   "cell_type": "code",
   "execution_count": 35,
   "metadata": {},
   "outputs": [
    {
     "name": "stdout",
     "output_type": "stream",
     "text": [
      "Please inout 1 thing into list1: poom\n",
      "[1, 2, 3, 4, 5, 6, 7, 'poom']\n",
      "[1, 2, 3, 4, 5, 6, 7]\n"
     ]
    }
   ],
   "source": [
    "ans=str(input(\"Please inout 1 thing into list1: \"))\n",
    "list1.append(ans)\n",
    "prlist()\n",
    "list1.remove(ans)\n",
    "prlist()"
   ]
  },
  {
   "cell_type": "code",
   "execution_count": 44,
   "metadata": {},
   "outputs": [
    {
     "name": "stdout",
     "output_type": "stream",
     "text": [
      "[1, 2, 3, 4, 5, 6, 7, 8, 9, 10]\n"
     ]
    }
   ],
   "source": [
    "list3=[8,9,10]\n",
    "list4=list1+list3\n",
    "print(list4)"
   ]
  },
  {
   "cell_type": "code",
   "execution_count": 48,
   "metadata": {},
   "outputs": [
    {
     "name": "stdout",
     "output_type": "stream",
     "text": [
      "1\n",
      "2\n"
     ]
    }
   ],
   "source": [
    "mytuple=(1,2)\n",
    "for tuples in mytuple:\n",
    "    print(tuples)\n",
    "    "
   ]
  },
  {
   "cell_type": "code",
   "execution_count": 67,
   "metadata": {},
   "outputs": [
    {
     "data": {
      "text/plain": [
       "'apple'"
      ]
     },
     "execution_count": 67,
     "metadata": {},
     "output_type": "execute_result"
    }
   ],
   "source": [
    "lista=['apple','orange','pineapple']\n",
    "listb=[1,2,3,4,5]\n",
    "lista[0]"
   ]
  },
  {
   "cell_type": "code",
   "execution_count": 70,
   "metadata": {},
   "outputs": [
    {
     "name": "stdout",
     "output_type": "stream",
     "text": [
      "2\n",
      "3\n",
      "4\n",
      "5\n"
     ]
    }
   ],
   "source": [
    "for lister in listb[1:5]:\n",
    "#     the last number tell the range where it is allow to count it will not count the index on that last range but before and the first tell which index to start from\n",
    "    print(lister)"
   ]
  },
  {
   "cell_type": "code",
   "execution_count": 69,
   "metadata": {},
   "outputs": [
    {
     "name": "stdout",
     "output_type": "stream",
     "text": [
      "apple \t 1\n",
      "orange \t 2\n",
      "pineapple \t 3\n"
     ]
    }
   ],
   "source": [
    "for name,price in zip(lista,listb):\n",
    "    print(name,'\\t',price)"
   ]
  },
  {
   "cell_type": "code",
   "execution_count": 81,
   "metadata": {},
   "outputs": [],
   "source": [
    "MyDict={'poom':17,'peh':14}"
   ]
  },
  {
   "cell_type": "code",
   "execution_count": 82,
   "metadata": {},
   "outputs": [
    {
     "data": {
      "text/plain": [
       "17"
      ]
     },
     "execution_count": 82,
     "metadata": {},
     "output_type": "execute_result"
    }
   ],
   "source": [
    "MyDict['poom']"
   ]
  },
  {
   "cell_type": "code",
   "execution_count": 1,
   "metadata": {},
   "outputs": [
    {
     "name": "stdout",
     "output_type": "stream",
     "text": [
      "hello 0\n",
      "hello 1\n",
      "hello 2\n",
      "hello 3\n",
      "hello 4\n",
      "hello 5\n",
      "hello 6\n",
      "hello 7\n",
      "hello 8\n",
      "hello 9\n"
     ]
    }
   ],
   "source": [
    "for i in range(10):#for loop\n",
    "    print('hello',i)"
   ]
  },
  {
   "cell_type": "code",
   "execution_count": 9,
   "metadata": {},
   "outputs": [
    {
     "data": {
      "text/html": [
       "<div>\n",
       "<style scoped>\n",
       "    .dataframe tbody tr th:only-of-type {\n",
       "        vertical-align: middle;\n",
       "    }\n",
       "\n",
       "    .dataframe tbody tr th {\n",
       "        vertical-align: top;\n",
       "    }\n",
       "\n",
       "    .dataframe thead th {\n",
       "        text-align: right;\n",
       "    }\n",
       "</style>\n",
       "<table border=\"1\" class=\"dataframe\">\n",
       "  <thead>\n",
       "    <tr style=\"text-align: right;\">\n",
       "      <th></th>\n",
       "      <th>Age</th>\n",
       "      <th>ConfirmDate</th>\n",
       "      <th>Detail</th>\n",
       "      <th>District</th>\n",
       "      <th>Gender</th>\n",
       "      <th>GenderEn</th>\n",
       "      <th>Nation</th>\n",
       "      <th>NationEn</th>\n",
       "      <th>No</th>\n",
       "      <th>Province</th>\n",
       "      <th>ProvinceEn</th>\n",
       "      <th>ProvinceId</th>\n",
       "    </tr>\n",
       "  </thead>\n",
       "  <tbody>\n",
       "    <tr>\n",
       "      <th>0</th>\n",
       "      <td>24</td>\n",
       "      <td>2020-05-03 00:00:00</td>\n",
       "      <td>None</td>\n",
       "      <td>จะแนะ</td>\n",
       "      <td>ชาย</td>\n",
       "      <td>Male</td>\n",
       "      <td>ไทย</td>\n",
       "      <td>Thai</td>\n",
       "      <td>2969</td>\n",
       "      <td>นราธิวาส</td>\n",
       "      <td>Narathiwat</td>\n",
       "      <td>25</td>\n",
       "    </tr>\n",
       "    <tr>\n",
       "      <th>1</th>\n",
       "      <td>51</td>\n",
       "      <td>2020-05-03 00:00:00</td>\n",
       "      <td>None</td>\n",
       "      <td>บึงกุ่ม</td>\n",
       "      <td>หญิง</td>\n",
       "      <td>Female</td>\n",
       "      <td>ไทย</td>\n",
       "      <td>Thai</td>\n",
       "      <td>2968</td>\n",
       "      <td>กรุงเทพมหานคร</td>\n",
       "      <td>Bangkok</td>\n",
       "      <td>1</td>\n",
       "    </tr>\n",
       "    <tr>\n",
       "      <th>2</th>\n",
       "      <td>35</td>\n",
       "      <td>2020-05-03 00:00:00</td>\n",
       "      <td>None</td>\n",
       "      <td>คลองจั่น</td>\n",
       "      <td>ชาย</td>\n",
       "      <td>Male</td>\n",
       "      <td>ไทย</td>\n",
       "      <td>Thai</td>\n",
       "      <td>2967</td>\n",
       "      <td>กรุงเทพมหานคร</td>\n",
       "      <td>Bangkok</td>\n",
       "      <td>1</td>\n",
       "    </tr>\n",
       "    <tr>\n",
       "      <th>3</th>\n",
       "      <td>51</td>\n",
       "      <td>2020-04-04 00:00:00</td>\n",
       "      <td>None</td>\n",
       "      <td></td>\n",
       "      <td>ชาย</td>\n",
       "      <td>Male</td>\n",
       "      <td>สหราชอาณาจักร</td>\n",
       "      <td>British</td>\n",
       "      <td>None</td>\n",
       "      <td>กรุงเทพมหานคร</td>\n",
       "      <td>Bangkok</td>\n",
       "      <td>1</td>\n",
       "    </tr>\n",
       "    <tr>\n",
       "      <th>4</th>\n",
       "      <td>52</td>\n",
       "      <td>2020-05-02 00:00:00</td>\n",
       "      <td>None</td>\n",
       "      <td>พระนคร</td>\n",
       "      <td>หญิง</td>\n",
       "      <td>Female</td>\n",
       "      <td>ไทย</td>\n",
       "      <td>Thai</td>\n",
       "      <td>2966</td>\n",
       "      <td>กรุงเทพมหานคร</td>\n",
       "      <td>Bangkok</td>\n",
       "      <td>1</td>\n",
       "    </tr>\n",
       "    <tr>\n",
       "      <th>5</th>\n",
       "      <td>52</td>\n",
       "      <td>2020-05-02 00:00:00</td>\n",
       "      <td>None</td>\n",
       "      <td>ดินแดง</td>\n",
       "      <td>ชาย</td>\n",
       "      <td>Male</td>\n",
       "      <td>ไทย</td>\n",
       "      <td>Thai</td>\n",
       "      <td>2965</td>\n",
       "      <td>กรุงเทพมหานคร</td>\n",
       "      <td>Bangkok</td>\n",
       "      <td>1</td>\n",
       "    </tr>\n",
       "    <tr>\n",
       "      <th>6</th>\n",
       "      <td>21</td>\n",
       "      <td>2020-05-02 00:00:00</td>\n",
       "      <td>None</td>\n",
       "      <td>ถลาง</td>\n",
       "      <td>หญิง</td>\n",
       "      <td>Female</td>\n",
       "      <td>ไทย</td>\n",
       "      <td>Thai</td>\n",
       "      <td>2964</td>\n",
       "      <td>ภูเก็ต</td>\n",
       "      <td>Phuket</td>\n",
       "      <td>42</td>\n",
       "    </tr>\n",
       "    <tr>\n",
       "      <th>7</th>\n",
       "      <td>58</td>\n",
       "      <td>2020-05-02 00:00:00</td>\n",
       "      <td>None</td>\n",
       "      <td>ถลาง</td>\n",
       "      <td>หญิง</td>\n",
       "      <td>Female</td>\n",
       "      <td>ไทย</td>\n",
       "      <td>Thai</td>\n",
       "      <td>2963</td>\n",
       "      <td>ภูเก็ต</td>\n",
       "      <td>Phuket</td>\n",
       "      <td>42</td>\n",
       "    </tr>\n",
       "    <tr>\n",
       "      <th>8</th>\n",
       "      <td>22</td>\n",
       "      <td>2020-05-02 00:00:00</td>\n",
       "      <td>None</td>\n",
       "      <td>บางซื่อ</td>\n",
       "      <td>หญิง</td>\n",
       "      <td>Female</td>\n",
       "      <td>ไทย</td>\n",
       "      <td>Thai</td>\n",
       "      <td>2962</td>\n",
       "      <td>กรุงเทพมหานคร</td>\n",
       "      <td>Bangkok</td>\n",
       "      <td>1</td>\n",
       "    </tr>\n",
       "    <tr>\n",
       "      <th>9</th>\n",
       "      <td>48</td>\n",
       "      <td>2020-05-02 00:00:00</td>\n",
       "      <td>None</td>\n",
       "      <td>ถลาง</td>\n",
       "      <td>ชาย</td>\n",
       "      <td>Male</td>\n",
       "      <td>ไทย</td>\n",
       "      <td>Thai</td>\n",
       "      <td>2961</td>\n",
       "      <td>ภูเก็ต</td>\n",
       "      <td>Phuket</td>\n",
       "      <td>42</td>\n",
       "    </tr>\n",
       "    <tr>\n",
       "      <th>10</th>\n",
       "      <td>39</td>\n",
       "      <td>2020-05-01 00:00:00</td>\n",
       "      <td>None</td>\n",
       "      <td>บันนังสะตา</td>\n",
       "      <td>หญิง</td>\n",
       "      <td>Female</td>\n",
       "      <td>ไทย</td>\n",
       "      <td>Thai</td>\n",
       "      <td>2960</td>\n",
       "      <td>ยะลา</td>\n",
       "      <td>Yala</td>\n",
       "      <td>47</td>\n",
       "    </tr>\n",
       "    <tr>\n",
       "      <th>11</th>\n",
       "      <td>54</td>\n",
       "      <td>2020-05-01 00:00:00</td>\n",
       "      <td>None</td>\n",
       "      <td>บันนังสะตา</td>\n",
       "      <td>หญิง</td>\n",
       "      <td>Female</td>\n",
       "      <td>ไทย</td>\n",
       "      <td>Thai</td>\n",
       "      <td>2959</td>\n",
       "      <td>ยะลา</td>\n",
       "      <td>Yala</td>\n",
       "      <td>47</td>\n",
       "    </tr>\n",
       "  </tbody>\n",
       "</table>\n",
       "</div>"
      ],
      "text/plain": [
       "    Age          ConfirmDate Detail    District Gender GenderEn  \\\n",
       "0    24  2020-05-03 00:00:00   None       จะแนะ    ชาย     Male   \n",
       "1    51  2020-05-03 00:00:00   None     บึงกุ่ม   หญิง   Female   \n",
       "2    35  2020-05-03 00:00:00   None    คลองจั่น    ชาย     Male   \n",
       "3    51  2020-04-04 00:00:00   None                ชาย     Male   \n",
       "4    52  2020-05-02 00:00:00   None      พระนคร   หญิง   Female   \n",
       "5    52  2020-05-02 00:00:00   None      ดินแดง    ชาย     Male   \n",
       "6    21  2020-05-02 00:00:00   None        ถลาง   หญิง   Female   \n",
       "7    58  2020-05-02 00:00:00   None        ถลาง   หญิง   Female   \n",
       "8    22  2020-05-02 00:00:00   None     บางซื่อ   หญิง   Female   \n",
       "9    48  2020-05-02 00:00:00   None        ถลาง    ชาย     Male   \n",
       "10   39  2020-05-01 00:00:00   None  บันนังสะตา   หญิง   Female   \n",
       "11   54  2020-05-01 00:00:00   None  บันนังสะตา   หญิง   Female   \n",
       "\n",
       "           Nation NationEn    No       Province  ProvinceEn  ProvinceId  \n",
       "0             ไทย     Thai  2969       นราธิวาส  Narathiwat          25  \n",
       "1             ไทย     Thai  2968  กรุงเทพมหานคร     Bangkok           1  \n",
       "2             ไทย     Thai  2967  กรุงเทพมหานคร     Bangkok           1  \n",
       "3   สหราชอาณาจักร  British  None  กรุงเทพมหานคร     Bangkok           1  \n",
       "4             ไทย     Thai  2966  กรุงเทพมหานคร     Bangkok           1  \n",
       "5             ไทย     Thai  2965  กรุงเทพมหานคร     Bangkok           1  \n",
       "6             ไทย     Thai  2964         ภูเก็ต      Phuket          42  \n",
       "7             ไทย     Thai  2963         ภูเก็ต      Phuket          42  \n",
       "8             ไทย     Thai  2962  กรุงเทพมหานคร     Bangkok           1  \n",
       "9             ไทย     Thai  2961         ภูเก็ต      Phuket          42  \n",
       "10            ไทย     Thai  2960           ยะลา        Yala          47  \n",
       "11            ไทย     Thai  2959           ยะลา        Yala          47  "
      ]
     },
     "execution_count": 9,
     "metadata": {},
     "output_type": "execute_result"
    }
   ],
   "source": [
    "import pandas as pd\n",
    "null=None\n",
    "dictt={\"ConfirmDate\":\"2020-05-03 00:00:00\",\"No\":\"2969\",\"Age\":24,\"Gender\":\"\\u0e0a\\u0e32\\u0e22\",\"GenderEn\":\"Male\",\"Nation\":\"\\u0e44\\u0e17\\u0e22\",\"NationEn\":\"Thai\",\"Province\":\"\\u0e19\\u0e23\\u0e32\\u0e18\\u0e34\\u0e27\\u0e32\\u0e2a\",\"ProvinceId\":25,\"District\":\"\\u0e08\\u0e30\\u0e41\\u0e19\\u0e30\",\"ProvinceEn\":\"Narathiwat\",\"Detail\":None},{\"ConfirmDate\":\"2020-05-03 00:00:00\",\"No\":\"2968\",\"Age\":51,\"Gender\":\"\\u0e2b\\u0e0d\\u0e34\\u0e07\",\"GenderEn\":\"Female\",\"Nation\":\"\\u0e44\\u0e17\\u0e22\",\"NationEn\":\"Thai\",\"Province\":\"\\u0e01\\u0e23\\u0e38\\u0e07\\u0e40\\u0e17\\u0e1e\\u0e21\\u0e2b\\u0e32\\u0e19\\u0e04\\u0e23\",\"ProvinceId\":1,\"District\":\"\\u0e1a\\u0e36\\u0e07\\u0e01\\u0e38\\u0e48\\u0e21\",\"ProvinceEn\":\"Bangkok\",\"Detail\":None},{\"ConfirmDate\":\"2020-05-03 00:00:00\",\"No\":\"2967\",\"Age\":35,\"Gender\":\"\\u0e0a\\u0e32\\u0e22\",\"GenderEn\":\"Male\",\"Nation\":\"\\u0e44\\u0e17\\u0e22\",\"NationEn\":\"Thai\",\"Province\":\"\\u0e01\\u0e23\\u0e38\\u0e07\\u0e40\\u0e17\\u0e1e\\u0e21\\u0e2b\\u0e32\\u0e19\\u0e04\\u0e23\",\"ProvinceId\":1,\"District\":\"\\u0e04\\u0e25\\u0e2d\\u0e07\\u0e08\\u0e31\\u0e48\\u0e19\",\"ProvinceEn\":\"Bangkok\",\"Detail\":None},{\"ConfirmDate\":\"2020-04-04 00:00:00\",\"No\":None,\"Age\":51,\"Gender\":\"\\u0e0a\\u0e32\\u0e22\",\"GenderEn\":\"Male\",\"Nation\":\"\\u0e2a\\u0e2b\\u0e23\\u0e32\\u0e0a\\u0e2d\\u0e32\\u0e13\\u0e32\\u0e08\\u0e31\\u0e01\\u0e23\",\"NationEn\":\"British\",\"Province\":\"\\u0e01\\u0e23\\u0e38\\u0e07\\u0e40\\u0e17\\u0e1e\\u0e21\\u0e2b\\u0e32\\u0e19\\u0e04\\u0e23\",\"ProvinceId\":1,\"District\":\"\",\"ProvinceEn\":\"Bangkok\",\"Detail\":null},{\"ConfirmDate\":\"2020-05-02 00:00:00\",\"No\":\"2966\",\"Age\":52,\"Gender\":\"\\u0e2b\\u0e0d\\u0e34\\u0e07\",\"GenderEn\":\"Female\",\"Nation\":\"\\u0e44\\u0e17\\u0e22\",\"NationEn\":\"Thai\",\"Province\":\"\\u0e01\\u0e23\\u0e38\\u0e07\\u0e40\\u0e17\\u0e1e\\u0e21\\u0e2b\\u0e32\\u0e19\\u0e04\\u0e23\",\"ProvinceId\":1,\"District\":\"\\u0e1e\\u0e23\\u0e30\\u0e19\\u0e04\\u0e23\",\"ProvinceEn\":\"Bangkok\",\"Detail\":null},{\"ConfirmDate\":\"2020-05-02 00:00:00\",\"No\":\"2965\",\"Age\":52,\"Gender\":\"\\u0e0a\\u0e32\\u0e22\",\"GenderEn\":\"Male\",\"Nation\":\"\\u0e44\\u0e17\\u0e22\",\"NationEn\":\"Thai\",\"Province\":\"\\u0e01\\u0e23\\u0e38\\u0e07\\u0e40\\u0e17\\u0e1e\\u0e21\\u0e2b\\u0e32\\u0e19\\u0e04\\u0e23\",\"ProvinceId\":1,\"District\":\"\\u0e14\\u0e34\\u0e19\\u0e41\\u0e14\\u0e07\",\"ProvinceEn\":\"Bangkok\",\"Detail\":None},{\"ConfirmDate\":\"2020-05-02 00:00:00\",\"No\":\"2964\",\"Age\":21,\"Gender\":\"\\u0e2b\\u0e0d\\u0e34\\u0e07\",\"GenderEn\":\"Female\",\"Nation\":\"\\u0e44\\u0e17\\u0e22\",\"NationEn\":\"Thai\",\"Province\":\"\\u0e20\\u0e39\\u0e40\\u0e01\\u0e47\\u0e15\",\"ProvinceId\":42,\"District\":\"\\u0e16\\u0e25\\u0e32\\u0e07\",\"ProvinceEn\":\"Phuket\",\"Detail\":null},{\"ConfirmDate\":\"2020-05-02 00:00:00\",\"No\":\"2963\",\"Age\":58,\"Gender\":\"\\u0e2b\\u0e0d\\u0e34\\u0e07\",\"GenderEn\":\"Female\",\"Nation\":\"\\u0e44\\u0e17\\u0e22\",\"NationEn\":\"Thai\",\"Province\":\"\\u0e20\\u0e39\\u0e40\\u0e01\\u0e47\\u0e15\",\"ProvinceId\":42,\"District\":\"\\u0e16\\u0e25\\u0e32\\u0e07\",\"ProvinceEn\":\"Phuket\",\"Detail\":null},{\"ConfirmDate\":\"2020-05-02 00:00:00\",\"No\":\"2962\",\"Age\":22,\"Gender\":\"\\u0e2b\\u0e0d\\u0e34\\u0e07\",\"GenderEn\":\"Female\",\"Nation\":\"\\u0e44\\u0e17\\u0e22\",\"NationEn\":\"Thai\",\"Province\":\"\\u0e01\\u0e23\\u0e38\\u0e07\\u0e40\\u0e17\\u0e1e\\u0e21\\u0e2b\\u0e32\\u0e19\\u0e04\\u0e23\",\"ProvinceId\":1,\"District\":\"\\u0e1a\\u0e32\\u0e07\\u0e0b\\u0e37\\u0e48\\u0e2d\",\"ProvinceEn\":\"Bangkok\",\"Detail\":null},{\"ConfirmDate\":\"2020-05-02 00:00:00\",\"No\":\"2961\",\"Age\":48,\"Gender\":\"\\u0e0a\\u0e32\\u0e22\",\"GenderEn\":\"Male\",\"Nation\":\"\\u0e44\\u0e17\\u0e22\",\"NationEn\":\"Thai\",\"Province\":\"\\u0e20\\u0e39\\u0e40\\u0e01\\u0e47\\u0e15\",\"ProvinceId\":42,\"District\":\"\\u0e16\\u0e25\\u0e32\\u0e07\",\"ProvinceEn\":\"Phuket\",\"Detail\":null},{\"ConfirmDate\":\"2020-05-01 00:00:00\",\"No\":\"2960\",\"Age\":39,\"Gender\":\"\\u0e2b\\u0e0d\\u0e34\\u0e07\",\"GenderEn\":\"Female\",\"Nation\":\"\\u0e44\\u0e17\\u0e22\",\"NationEn\":\"Thai\",\"Province\":\"\\u0e22\\u0e30\\u0e25\\u0e32\",\"ProvinceId\":47,\"District\":\"\\u0e1a\\u0e31\\u0e19\\u0e19\\u0e31\\u0e07\\u0e2a\\u0e30\\u0e15\\u0e32\",\"ProvinceEn\":\"Yala\",\"Detail\":None},{\"ConfirmDate\":\"2020-05-01 00:00:00\",\"No\":\"2959\",\"Age\":54,\"Gender\":\"\\u0e2b\\u0e0d\\u0e34\\u0e07\",\"GenderEn\":\"Female\",\"Nation\":\"\\u0e44\\u0e17\\u0e22\",\"NationEn\":\"Thai\",\"Province\":\"\\u0e22\\u0e30\\u0e25\\u0e32\",\"ProvinceId\":47,\"District\":\"\\u0e1a\\u0e31\\u0e19\\u0e19\\u0e31\\u0e07\\u0e2a\\u0e30\\u0e15\\u0e32\",\"ProvinceEn\":\"Yala\",\"Detail\":None}\n",
    "df2=pd.DataFrame(dictt)\n",
    "df2"
   ]
  },
  {
   "cell_type": "code",
   "execution_count": 10,
   "metadata": {},
   "outputs": [
    {
     "data": {
      "text/html": [
       "<div>\n",
       "<style scoped>\n",
       "    .dataframe tbody tr th:only-of-type {\n",
       "        vertical-align: middle;\n",
       "    }\n",
       "\n",
       "    .dataframe tbody tr th {\n",
       "        vertical-align: top;\n",
       "    }\n",
       "\n",
       "    .dataframe thead th {\n",
       "        text-align: right;\n",
       "    }\n",
       "</style>\n",
       "<table border=\"1\" class=\"dataframe\">\n",
       "  <thead>\n",
       "    <tr style=\"text-align: right;\">\n",
       "      <th></th>\n",
       "      <th>0</th>\n",
       "      <th>1</th>\n",
       "      <th>2</th>\n",
       "    </tr>\n",
       "  </thead>\n",
       "  <tbody>\n",
       "    <tr>\n",
       "      <th>0</th>\n",
       "      <td>1</td>\n",
       "      <td>pokmon</td>\n",
       "      <td>digimon</td>\n",
       "    </tr>\n",
       "    <tr>\n",
       "      <th>1</th>\n",
       "      <td>2</td>\n",
       "      <td>digimon</td>\n",
       "      <td>pokemon</td>\n",
       "    </tr>\n",
       "  </tbody>\n",
       "</table>\n",
       "</div>"
      ],
      "text/plain": [
       "   0        1        2\n",
       "0  1   pokmon  digimon\n",
       "1  2  digimon  pokemon"
      ]
     },
     "execution_count": 10,
     "metadata": {},
     "output_type": "execute_result"
    }
   ],
   "source": [
    "df3=pd.DataFrame([[1,'pokmon','digimon'],[2,'digimon','pokemon']])\n",
    "df3"
   ]
  },
  {
   "cell_type": "code",
   "execution_count": null,
   "metadata": {},
   "outputs": [],
   "source": []
  }
 ],
 "metadata": {
  "kernelspec": {
   "display_name": "Python 3",
   "language": "python",
   "name": "python3"
  },
  "language_info": {
   "codemirror_mode": {
    "name": "ipython",
    "version": 3
   },
   "file_extension": ".py",
   "mimetype": "text/x-python",
   "name": "python",
   "nbconvert_exporter": "python",
   "pygments_lexer": "ipython3",
   "version": "3.7.3"
  }
 },
 "nbformat": 4,
 "nbformat_minor": 2
}
